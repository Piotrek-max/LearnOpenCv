{
 "cells": [
  {
   "cell_type": "code",
   "execution_count": 1,
   "id": "eac0e840",
   "metadata": {},
   "outputs": [
    {
     "ename": "ImportError",
     "evalue": "DLL load failed while importing cv2: Nie można odnaleźć określonego modułu.",
     "output_type": "error",
     "traceback": [
      "\u001B[1;31m---------------------------------------------------------------------------\u001B[0m",
      "\u001B[1;31mImportError\u001B[0m                               Traceback (most recent call last)",
      "Cell \u001B[1;32mIn[1], line 9\u001B[0m\n\u001B[0;32m      6\u001B[0m \u001B[38;5;28;01mfrom\u001B[39;00m \u001B[38;5;21;01murllib\u001B[39;00m\u001B[38;5;21;01m.\u001B[39;00m\u001B[38;5;21;01mrequest\u001B[39;00m \u001B[38;5;28;01mimport\u001B[39;00m urlretrieve\n\u001B[0;32m      8\u001B[0m \u001B[38;5;28;01mfrom\u001B[39;00m \u001B[38;5;21;01mIPython\u001B[39;00m\u001B[38;5;21;01m.\u001B[39;00m\u001B[38;5;21;01mdisplay\u001B[39;00m \u001B[38;5;28;01mimport\u001B[39;00m Image\n\u001B[1;32m----> 9\u001B[0m \u001B[38;5;28;01mimport\u001B[39;00m \u001B[38;5;21;01mcv2\u001B[39;00m\n\u001B[0;32m     13\u001B[0m get_ipython()\u001B[38;5;241m.\u001B[39mrun_line_magic(\u001B[38;5;124m'\u001B[39m\u001B[38;5;124mmatplotlib\u001B[39m\u001B[38;5;124m'\u001B[39m, \u001B[38;5;124m'\u001B[39m\u001B[38;5;124minline\u001B[39m\u001B[38;5;124m'\u001B[39m)\n",
      "\u001B[1;31mImportError\u001B[0m: DLL load failed while importing cv2: Nie można odnaleźć określonego modułu."
     ]
    }
   ],
   "source": [
    "import os\n",
    "import numpy as np\n",
    "import matplotlib.pyplot as plt\n",
    "\n",
    "from zipfile import ZipFile\n",
    "from urllib.request import urlretrieve\n",
    "\n",
    "from IPython.display import Image\n",
    "import cv2\n",
    "\n",
    "\n",
    "\n",
    "%matplotlib inline"
   ]
  },
  {
   "cell_type": "code",
   "execution_count": null,
   "id": "54420ff9",
   "metadata": {},
   "outputs": [],
   "source": [
    "def download_and_unzip(url, save_path):\n",
    "    print(f\"Downloading and extracting assests....\", end=\"\")\n",
    "\n",
    "    # Downloading zip file using urllib package.\n",
    "    urlretrieve(url, save_path)\n",
    "\n",
    "    try:\n",
    "        # Extracting zip file using the zipfile package.\n",
    "        with ZipFile(save_path) as z:\n",
    "            # Extract ZIP file contents in the same directory.\n",
    "            z.extractall(os.path.split(save_path)[0])\n",
    "\n",
    "        print(\"Done\")\n",
    "\n",
    "    except Exception as e:\n",
    "        print(\"\\nInvalid file.\", e)"
   ]
  },
  {
   "cell_type": "markdown",
   "id": "915fd354",
   "metadata": {},
   "source": [
    "#### c1"
   ]
  },
  {
   "cell_type": "raw",
   "id": "5410109c",
   "metadata": {},
   "source": [
    "URL = r\"https://www.dropbox.com/s/qhhlqcica1nvtaw/opencv_bootcamp_assets_NB1.zip?dl=1\"\n",
    "\n",
    "asset_zip_path = os.path.join(os.getcwd(), f\"opencv_bootcamp_assets_NB1.zip\")\n",
    "\n",
    "#Download if assest ZIP does not exists. \n",
    "if not os.path.exists(asset_zip_path):\n",
    "    download_and_unzip(URL, asset_zip_path)   "
   ]
  },
  {
   "cell_type": "markdown",
   "id": "ef37b54c",
   "metadata": {},
   "source": [
    "#### c2"
   ]
  },
  {
   "cell_type": "raw",
   "id": "fd78d30a-6d3e-4fb2-8419-2a4ec60877cf",
   "metadata": {},
   "source": [
    "URL = r\"https://www.dropbox.com/s/rys6f1vprily2bg/opencv_bootcamp_assets_NB2.zip?dl=1\"\n",
    "\n",
    "asset_zip_path = os.path.join(os.getcwd(), f\"opencv_bootcamp_assets_NB2.zip\")\n",
    "\n",
    "# Download if assest ZIP does not exists. \n",
    "if not os.path.exists(asset_zip_path):\n",
    "    download_and_unzip(URL, asset_zip_path)"
   ]
  },
  {
   "cell_type": "code",
   "execution_count": null,
   "id": "de962294",
   "metadata": {},
   "outputs": [],
   "source": [
    "Image(filename=\"checkerboard_18x18.png\")"
   ]
  },
  {
   "cell_type": "code",
   "execution_count": null,
   "id": "30e6ece5",
   "metadata": {},
   "outputs": [],
   "source": [
    "Image(filename=\"checkerboard_84x84.jpg\")"
   ]
  },
  {
   "cell_type": "code",
   "execution_count": null,
   "id": "46c19281",
   "metadata": {
    "scrolled": true
   },
   "outputs": [],
   "source": [
    "cb_img = cv2.imread(\"checkerboard_18x18.png\",0)\n",
    "print(cb_img)"
   ]
  },
  {
   "cell_type": "code",
   "execution_count": null,
   "id": "fd79ceef",
   "metadata": {},
   "outputs": [],
   "source": [
    "print(cb_img.shape)\n",
    "print(cb_img.dtype)"
   ]
  },
  {
   "cell_type": "code",
   "execution_count": null,
   "id": "032d1cff",
   "metadata": {},
   "outputs": [],
   "source": [
    "plt.imshow(cb_img)"
   ]
  },
  {
   "cell_type": "code",
   "execution_count": null,
   "id": "a3a5b7ae",
   "metadata": {},
   "outputs": [],
   "source": [
    "plt.imshow(cb_img, cmap='gray')"
   ]
  },
  {
   "cell_type": "code",
   "execution_count": null,
   "id": "260c4007",
   "metadata": {},
   "outputs": [],
   "source": [
    "cb_img_fuzzy = cv2.imread(\"checkerboard_fuzzy_18x18.jpg\",0)\n",
    "print(cb_img_fuzzy)\n",
    "plt.imshow(cb_img_fuzzy, cmap='gray')"
   ]
  },
  {
   "cell_type": "markdown",
   "id": "e93870c4",
   "metadata": {},
   "source": [
    "# Working with color images"
   ]
  },
  {
   "cell_type": "code",
   "execution_count": null,
   "id": "d985f89a",
   "metadata": {},
   "outputs": [],
   "source": [
    "Image(\"coca-cola-logo.png\")"
   ]
  },
  {
   "cell_type": "code",
   "execution_count": null,
   "id": "3d4255de",
   "metadata": {},
   "outputs": [],
   "source": [
    "coke_img = cv2.imread(\"coca-cola-logo.png\",1)\n",
    "print(\"Image size is\" , coke_img.shape)\n",
    "print(coke_img.dtype)"
   ]
  },
  {
   "cell_type": "code",
   "execution_count": null,
   "id": "4b1a2be6",
   "metadata": {},
   "outputs": [],
   "source": [
    "plt.imshow(coke_img)"
   ]
  },
  {
   "cell_type": "code",
   "execution_count": null,
   "id": "b04b4a70",
   "metadata": {},
   "outputs": [],
   "source": [
    "coke_img_rev_channel = coke_img[:,:,::-1]\n",
    "plt.imshow(coke_img_rev_channel)"
   ]
  },
  {
   "cell_type": "markdown",
   "id": "5c8fb9fb",
   "metadata": {},
   "source": [
    "# Splitting and  merging color channels"
   ]
  },
  {
   "cell_type": "code",
   "execution_count": null,
   "id": "f4e63625",
   "metadata": {},
   "outputs": [],
   "source": [
    "img_NZ_bgr = cv2.imread(\"New_Zealand_Lake.jpg\")\n",
    "b,g,r = cv2.split(img_NZ_bgr)\n",
    "plt.figure(figsize=[20,5])\n",
    "plt.subplot(141);plt.imshow(r, cmap=\"gray\");plt.title(\"Red Channel\")\n",
    "plt.subplot(142);plt.imshow(g, cmap=\"gray\");plt.title(\"Green Channel\")\n",
    "plt.subplot(143);plt.imshow(b, cmap=\"gray\");plt.title(\"Blue Channel\")\n",
    "\n",
    "# Merge the individual channels into a BGR image\n",
    "imgMerged = cv2.merge((b, g, r))\n",
    "# Show the merged output\n",
    "plt.subplot(144)\n",
    "plt.imshow(imgMerged[:, :, ::-1])\n",
    "plt.title(\"Merged Output\")"
   ]
  },
  {
   "cell_type": "code",
   "execution_count": null,
   "id": "5e23122a",
   "metadata": {},
   "outputs": [],
   "source": [
    "img_NZ_rgb = cv2.cvtColor(img_NZ_bgr, cv2.COLOR_BGR2RGB)\n",
    "plt.imshow(img_NZ_rgb)"
   ]
  },
  {
   "cell_type": "markdown",
   "id": "9c7a8be1",
   "metadata": {},
   "source": [
    "## Saving images"
   ]
  },
  {
   "cell_type": "code",
   "execution_count": null,
   "id": "d1413acf",
   "metadata": {
    "scrolled": true
   },
   "outputs": [],
   "source": [
    "cv2.imwrite(\"New zeland.png\", img_NZ_bgr)"
   ]
  },
  {
   "cell_type": "markdown",
   "id": "1896d95a",
   "metadata": {},
   "source": [
    "# Manipulate on images"
   ]
  },
  {
   "cell_type": "code",
   "execution_count": null,
   "id": "45428287",
   "metadata": {},
   "outputs": [],
   "source": [
    "cb_img = cv2.imread(\"checkerboard_18x18.png\",0)\n",
    "print(cb_img)\n",
    "plt.imshow(cb_img, cmap='gray')"
   ]
  },
  {
   "cell_type": "code",
   "execution_count": null,
   "id": "d949de76",
   "metadata": {},
   "outputs": [],
   "source": [
    "cb_img_copy = cb_img.copy()\n",
    "cb_img_copy[2,2] = 200\n",
    "cb_img_copy[2,3] = 200\n",
    "cb_img_copy[3,2] = 200\n",
    "cb_img_copy[3,3] = 200\n",
    "plt.imshow(cb_img_copy, cmap='gray')\n",
    "print(cb_img_copy)"
   ]
  },
  {
   "cell_type": "markdown",
   "id": "986860b1",
   "metadata": {},
   "source": [
    "## Cropping images"
   ]
  },
  {
   "cell_type": "raw",
   "id": "495ffc54",
   "metadata": {},
   "source": [
    "Cropping an image is simply achived by selecting a specific (pixel) region of image."
   ]
  },
  {
   "cell_type": "code",
   "execution_count": null,
   "id": "5bbe8943",
   "metadata": {},
   "outputs": [],
   "source": [
    "img_NZ_bgr = cv2.imread(\"New_Zealand_Boat.jpg\",cv2.IMREAD_COLOR)\n",
    "img_NZ_rgb = img_NZ_bgr[:,:,::-1]\n",
    "plt.imshow(img_NZ_rgb)"
   ]
  },
  {
   "cell_type": "markdown",
   "id": "1b33c342",
   "metadata": {},
   "source": [
    "#### Crop opt the middle of the region "
   ]
  },
  {
   "cell_type": "code",
   "execution_count": null,
   "id": "90430441",
   "metadata": {},
   "outputs": [],
   "source": [
    "cropped_region = img_NZ_rgb[200:400,300:600]\n",
    "plt.imshow(cropped_region)"
   ]
  },
  {
   "cell_type": "markdown",
   "id": "84db83cb",
   "metadata": {},
   "source": [
    "## Resizing Images"
   ]
  },
  {
   "cell_type": "code",
   "execution_count": null,
   "id": "28259a0d",
   "metadata": {},
   "outputs": [],
   "source": []
  }
 ],
 "metadata": {
  "kernelspec": {
   "display_name": "Python 3 (ipykernel)",
   "language": "python",
   "name": "python3"
  },
  "language_info": {
   "codemirror_mode": {
    "name": "ipython",
    "version": 3
   },
   "file_extension": ".py",
   "mimetype": "text/x-python",
   "name": "python",
   "nbconvert_exporter": "python",
   "pygments_lexer": "ipython3",
   "version": "3.11.9"
  }
 },
 "nbformat": 4,
 "nbformat_minor": 5
}
